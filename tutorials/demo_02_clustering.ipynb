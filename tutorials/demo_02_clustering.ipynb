{
 "cells": [
  {
   "cell_type": "markdown",
   "metadata": {},
   "source": [
    "*Copyright (C) 2023 Intel Corporation*<br>\n",
    "*SPDX-License-Identifier: BSD-3-Clause*<br>\n",
    "*See: https://spdx.org/licenses/*\n",
    "\n",
    "---"
   ]
  },
  {
   "cell_type": "markdown",
   "metadata": {},
   "source": [
    "# Clustering using the Lava QUBO solver\n",
    "This notebook demonstrates the usage of a Lava-Optimization QUBO solver to cluster a set of points in 2-dimensional space into clusters with *pre-specified* cluster centers.\n",
    "\n",
    "We use a problem generator utility, which uniformly samples cluster centers and around them generates Gaussian-distributed points. Such artificially generated problem is then consumed by the clustering solver and a clustering solution is returned."
   ]
  },
  {
   "cell_type": "code",
   "execution_count": 1,
   "metadata": {
    "tags": []
   },
   "outputs": [],
   "source": [
    "import numpy as np\n",
    "import matplotlib.pyplot as plt\n",
    "\n",
    "from lava.lib.optimization.utils.generators.clustering_tsp_vrp import (\n",
    "    GaussianSampledClusteringProblem)  # Problem generation utility\n",
    "from lava.lib.optimization.apps.clustering.problems import ClusteringProblem\n",
    "from lava.lib.optimization.apps.clustering.solver import (ClusteringConfig,\n",
    "                                                          ClusteringSolver)"
   ]
  },
  {
   "cell_type": "markdown",
   "metadata": {},
   "source": [
    "### Generate random problem"
   ]
  },
  {
   "cell_type": "code",
   "execution_count": 2,
   "metadata": {
    "tags": []
   },
   "outputs": [],
   "source": [
    "np.random.seed(2)\n",
    "# Generate an artificial problem\n",
    "domain = [(0, 0), (50, 50)]\n",
    "gcp = GaussianSampledClusteringProblem(num_clusters=5,\n",
    "                                       num_points=50,\n",
    "                                       domain=domain,\n",
    "                                       variance=2.5)\n",
    "\n",
    "# Convert the generated coordinates to lists of tuples\n",
    "ct_c = [tuple(coord) for coord in gcp.center_coords]\n",
    "pt_c = [tuple(coord) for coord in gcp.point_coords]\n",
    "\n",
    "# Generate a clustering problem that compatible for solver consumption\n",
    "cp = ClusteringProblem(point_coords=pt_c,\n",
    "                       center_coords=ct_c)"
   ]
  },
  {
   "cell_type": "markdown",
   "metadata": {},
   "source": [
    "### Visualise the problem"
   ]
  },
  {
   "cell_type": "code",
   "execution_count": 3,
   "metadata": {},
   "outputs": [
    {
     "name": "stdout",
     "output_type": "stream",
     "text": [
      "Cluter center coordinates: \n",
      "[[40 15]\n",
      " [45  8]\n",
      " [22 43]\n",
      " [18 11]\n",
      " [40  7]]\n"
     ]
    },
    {
     "data": {
      "image/png": "[encoded data removed]",
      "text/plain": [
       "<Figure size 640x480 with 1 Axes>"
      ]
     },
     "metadata": {},
     "output_type": "display_data"
    }
   ],
   "source": [
    "print(f\"Cluter center coordinates: \\n{gcp.center_coords}\")\n",
    "plt.scatter(gcp.center_coords[:, 0], gcp.center_coords[:, 1], s=50, c='b', marker='o')\n",
    "plt.scatter(gcp.point_coords[:, 0], gcp.point_coords[:, 1], s=15, c='r', marker='^')\n",
    "plt.xlim([domain[0][0], domain[1][1]])\n",
    "plt.ylim([domain[0][0], domain[1][1]])\n",
    "plt.show()"
   ]
  },
  {
   "cell_type": "markdown",
   "metadata": {},
   "source": [
    "### Solve"
   ]
  },
  {
   "cell_type": "code",
   "execution_count": 4,
   "metadata": {},
   "outputs": [
    {
     "name": "stdout",
     "output_type": "stream",
     "text": [
      "INFO:DRV:  SLURM is being run in background\n",
      "INFO:DRV:  Connecting to 10.54.73.26:40445\n",
      "INFO:DRV:      Host server up..............Done 0.37s\n",
      "INFO:DRV:      Mapping chipIds.............Done 0.08ms\n",
      "INFO:DRV:      Mapping coreIds.............Done 0.26ms\n",
      "INFO:DRV:      Partitioning neuron groups..Done 3.70ms\n",
      "INFO:DRV:      Mapping axons...............Done 0.01s\n",
      "INFO:DRV:      Configuring Spike Block.....Done 0.01ms\n",
      "INFO:DRV:      Writes SpikeIO Config to FileDone 0.03ms\n",
      "INFO:DRV:      Initializes Python MQ.......Done 0.01ms\n",
      "INFO:DRV:      Partitioning MPDS...........Done 1.00ms\n",
      "INFO:DRV:      Creating Embedded Snips and ChannelsDone 9.16ms\n",
      "INFO:DRV:      Compiling Embedded snips....Done 0.79s\n",
      "INFO:DRV:      Compiling Host snips........Done 0.18ms\n",
      "INFO:DRV:      Compiling Register Probes...Done 0.33ms\n",
      "INFO:DRV:      Compiling Spike Probes......Done 0.04ms\n",
      "INFO:HST:  Args chip=0 cpu=0 /home/sumedhrr/frameworks.ai.nx.nxsdk/nxcore/arch/base/pre_execution/../../../../temp/4705e2c0-6948-11ee-bb08-19f77971418b/launcher_chip0_cpu0.bin --chips=1 --remote-relay=0 \n",
      "INFO:HST:  Args chip=0 cpu=1 /home/sumedhrr/frameworks.ai.nx.nxsdk/nxcore/arch/base/pre_execution/../../../../temp/4705e2c0-6948-11ee-bb08-19f77971418b/launcher_chip0_cpu1.bin --chips=1 --remote-relay=0 \n",
      "INFO:HST:  Nx...\n",
      "INFO:DRV:      Booting up..................Done 0.67s\n",
      "INFO:DRV:      Encoding probes.............Done 0.01ms\n",
      "INFO:DRV:      Transferring probes.........Done 6.93ms\n",
      "INFO:DRV:      Configuring registers.......Done 0.10s\n",
      "INFO:DRV:      Transferring spikes.........Done 0.00ms\n",
      "INFO:HST:  chip=0 msg=00018114 00ffff00 \n",
      "INFO:DRV:      Executing...................Done 0.01s\n",
      "INFO:DRV:      Processing timeseries.......Done 0.05ms\n",
      "INFO:DRV:  Executor: 1000 timesteps........Done 0.14s\n",
      "INFO:HST:  Execution has not started yet or has finished.\n",
      "INFO:HST:  Stopping Execution : at 1000\n",
      "INFO:HST:  chip=0 cpu=1 halted, status=0x0\n",
      "INFO:HST:  chip=0 cpu=0 halted, status=0x0\n"
     ]
    }
   ],
   "source": [
    "solver = ClusteringSolver(clp=cp)\n",
    "scfg = ClusteringConfig(backend=\"Loihi2\",\n",
    "                        hyperparameters={},\n",
    "                        target_cost=-1000000,\n",
    "                        timeout=1000,\n",
    "                        probe_time=False,\n",
    "                        log_level=20) # Change log level to 40 for suppressing the verbose output below\n",
    "solver.solve(scfg=scfg)"
   ]
  },
  {
   "cell_type": "markdown",
   "metadata": {},
   "source": [
    "#### Maps between cluster centers and points\n",
    "`clustering_id_map`: Center IDs -> Point IDs\n",
    "\n",
    "`clustering_coords_map`: Center coords -> Point coords"
   ]
  },
  {
   "cell_type": "code",
   "execution_count": 5,
   "metadata": {},
   "outputs": [
    {
     "name": "stdout",
     "output_type": "stream",
     "text": [
      "Clustering ID map:\n",
      "{4: [36, 37, 38, 39, 40, 41, 42, 43, 44, 45], 2: [16, 18, 19, 20, 22, 23, 25, 50, 51, 53], 3: [26, 27, 28, 29, 30, 31, 33, 34, 35], 1: [6, 7, 8, 9, 10, 11, 12, 13, 14, 15], 5: [17, 21, 24, 46, 47, 48, 49, 52, 54, 55]}\n",
      "Clustering coords map:\n",
      "{(18, 11): [(19, 7), (17, 4), (13, 8), (19, 11), (17, 9), (15, 12), (22, 8), (15, 12), (18, 11), (19, 12)], (45, 8): [(44, 7), (46, 5), (47, 0), (48, 6), (47, 8), (47, 3), (45, 11), (45, 9), (41, 9), (47, 5)], (22, 43): [(22, 44), (21, 41), (21, 45), (25, 44), (20, 40), (16, 43), (19, 40), (24, 42), (20, 46)], (40, 15): [(37, 13), (36, 17), (41, 11), (37, 15), (36, 15), (41, 15), (43, 14), (40, 12), (39, 13), (36, 16)], (40, 7): [(43, 2), (42, 8), (40, 3), (36, 7), (40, 8), (36, 4), (39, 9), (40, 3), (37, 9), (39, 6)]}\n"
     ]
    }
   ],
   "source": [
    "print(f\"Clustering ID map:\\n{solver.solution.clustering_id_map}\")\n",
    "print(f\"Clustering coords map:\\n{solver.solution.clustering_coords_map}\")"
   ]
  },
  {
   "cell_type": "code",
   "execution_count": 6,
   "metadata": {},
   "outputs": [],
   "source": [
    "clustered_coords = list(solver.solution.clustering_coords_map.values())\n",
    "clustered_coords = [np.array(coords) for coords in clustered_coords]"
   ]
  },
  {
   "cell_type": "markdown",
   "metadata": {},
   "source": [
    "### Visualise the clustering solution\n",
    "- Black circles are cluster centers.\n",
    "- Red triangles are points which did not get a cluster assignment\n",
    "- Other colours represent separate clusters"
   ]
  },
  {
   "cell_type": "code",
   "execution_count": 7,
   "metadata": {},
   "outputs": [
    {
     "data": {
      "image/png": "[encoded data removed]",
      "text/plain": [
       "<Figure size 640x480 with 1 Axes>"
      ]
     },
     "metadata": {},
     "output_type": "display_data"
    }
   ],
   "source": [
    "plt.scatter(gcp.center_coords[:, 0], gcp.center_coords[:, 1], s=50, c='k', marker='o')\n",
    "plt.scatter(gcp.point_coords[:, 0], gcp.point_coords[:, 1], s=15, c='r', marker='^')\n",
    "colours = ['b', 'g', 'y', 'c', 'm']\n",
    "for j, cluster in enumerate(clustered_coords):\n",
    "    plt.scatter(cluster[:, 0], cluster[:, 1], s=15, c=colours[j], marker='^')\n",
    "plt.xlim([domain[0][0], domain[1][1]])\n",
    "plt.ylim([domain[0][0], domain[1][1]])\n",
    "plt.show()"
   ]
  },
  {
   "cell_type": "code",
   "execution_count": null,
   "metadata": {},
   "outputs": [],
   "source": []
  }
 ],
 "metadata": {
  "kernelspec": {
   "display_name": "Python 3 (ipykernel)",
   "language": "python",
   "name": "python3"
  },
  "language_info": {
   "codemirror_mode": {
    "name": "ipython",
    "version": 3
   },
   "file_extension": ".py",
   "mimetype": "text/x-python",
   "name": "python",
   "nbconvert_exporter": "python",
   "pygments_lexer": "ipython3",
   "version": "3.8.10"
  }
 },
 "nbformat": 4,
 "nbformat_minor": 4
}
