{
 "cells": [
  {
   "cell_type": "markdown",
   "metadata": {},
   "source": [
    "*Copyright (C) 2023 Intel Corporation*<br>\n",
    "*SPDX-License-Identifier: BSD-3-Clause*<br>\n",
    "*See: https://spdx.org/licenses/*\n",
    "\n",
    "---"
   ]
  },
  {
   "cell_type": "markdown",
   "metadata": {},
   "source": [
    "# Solving a travelling salesman problem using the Lava QUBO solver\n",
    "This notebook demonstrates the usage of a Lava-Optimization QUBO solver to solve a travelling salesman problem.\n",
    "\n",
    "Currently, the solver finds a route connecting way-points without taking the salesman's starting position into account."
   ]
  },
  {
   "cell_type": "code",
   "execution_count": 1,
   "metadata": {
    "tags": []
   },
   "outputs": [],
   "source": [
    "import numpy as np\n",
    "import matplotlib.pyplot as plt\n",
    "\n",
    "from lava.lib.optimization.apps.tsp.problems import TravellingSalesmanProblem\n",
    "from lava.lib.optimization.apps.tsp.solver import TSPConfig, TSPSolver"
   ]
  },
  {
   "cell_type": "markdown",
   "metadata": {},
   "source": [
    "### Generate problem"
   ]
  },
  {
   "cell_type": "code",
   "execution_count": 2,
   "metadata": {
    "tags": []
   },
   "outputs": [],
   "source": [
    "all_coords = [(1, 1), (2, 1), (16, 1), (16, 15), (2, 15)]\n",
    "center_coords = [(1, 1)]\n",
    "point_coords = [(2, 1), (16, 1), (16, 15), (2, 15)]\n",
    "tsp_instance = TravellingSalesmanProblem(\n",
    "    waypt_coords=point_coords, starting_pt=center_coords)"
   ]
  },
  {
   "cell_type": "markdown",
   "metadata": {},
   "source": [
    "### Visualise the problem\n",
    "\n",
    "- Blue circle: starting position\n",
    "- Red triangles: way-points"
   ]
  },
  {
   "cell_type": "code",
   "execution_count": 3,
   "metadata": {},
   "outputs": [
    {
     "data": {
      "image/png": "[encoded data removed]",
      "text/plain": [
       "<Figure size 640x480 with 1 Axes>"
      ]
     },
     "metadata": {},
     "output_type": "display_data"
    }
   ],
   "source": [
    "plt.scatter(tsp_instance.nodes[1][0][0], tsp_instance.nodes[1][0][1], s=25, c='b', marker='o')\n",
    "plt.scatter(np.array(tsp_instance.waypt_coords)[:, 0], np.array(tsp_instance.waypt_coords)[:, 1], s=25, c='r', marker='^')\n",
    "plt.show()"
   ]
  },
  {
   "cell_type": "markdown",
   "metadata": {},
   "source": [
    "### Solve"
   ]
  },
  {
   "cell_type": "code",
   "execution_count": 4,
   "metadata": {},
   "outputs": [
    {
     "name": "stdout",
     "output_type": "stream",
     "text": [
      "INFO:DRV:  SLURM is being run in background\n",
      "INFO:DRV:  Connecting to 10.54.73.26:37679\n",
      "INFO:DRV:      Host server up..............Done 0.39s\n",
      "INFO:DRV:      Mapping chipIds.............Done 0.01ms\n",
      "INFO:DRV:      Mapping coreIds.............Done 0.05ms\n",
      "INFO:DRV:      Partitioning neuron groups..Done 0.67ms\n",
      "INFO:DRV:      Mapping axons...............Done 0.21ms\n",
      "INFO:DRV:      Configuring Spike Block.....Done 0.00ms\n",
      "INFO:DRV:      Writes SpikeIO Config to FileDone 0.01ms\n",
      "INFO:DRV:      Initializes Python MQ.......Done 0.01ms\n",
      "INFO:DRV:      Partitioning MPDS...........Done 0.46ms\n",
      "INFO:DRV:      Creating Embedded Snips and ChannelsDone 5.86ms\n",
      "INFO:DRV:      Compiling Embedded snips....Done 0.80s\n",
      "INFO:DRV:      Compiling Host snips........Done 0.22ms\n",
      "INFO:DRV:      Compiling Register Probes...Done 0.35ms\n",
      "INFO:DRV:      Compiling Spike Probes......Done 0.04ms\n",
      "INFO:HST:  Args chip=0 cpu=0 /home/sumedhrr/frameworks.ai.nx.nxsdk/nxcore/arch/base/pre_execution/../../../../temp/ecc88876-6956-11ee-bb08-19f77971418b/launcher_chip0_cpu0.bin --chips=1 --remote-relay=0 \n",
      "INFO:HST:  Args chip=0 cpu=1 /home/sumedhrr/frameworks.ai.nx.nxsdk/nxcore/arch/base/pre_execution/../../../../temp/ecc88876-6956-11ee-bb08-19f77971418b/launcher_chip0_cpu1.bin --chips=1 --remote-relay=0 \n",
      "INFO:HST:  Nx...\n",
      "INFO:DRV:      Booting up..................Done 0.65s\n",
      "INFO:DRV:      Encoding probes.............Done 0.01ms\n",
      "INFO:DRV:      Transferring probes.........Done 3.60ms\n",
      "INFO:DRV:      Configuring registers.......Done 0.05s\n",
      "INFO:DRV:      Transferring spikes.........Done 0.01ms\n",
      "INFO:HST:  chip=0 msg=00018114 00ffff00 \n",
      "INFO:DRV:      Executing...................Done 4.17ms\n",
      "INFO:DRV:      Processing timeseries.......Done 0.05ms\n",
      "INFO:DRV:  Executor: 1000 timesteps........Done 0.08s\n",
      "INFO:HST:  Execution has not started yet or has finished.\n",
      "INFO:HST:  Stopping Execution : at 1000\n",
      "INFO:HST:  chip=0 cpu=1 halted, status=0x0\n",
      "INFO:HST:  chip=0 cpu=0 halted, status=0x0\n"
     ]
    }
   ],
   "source": [
    "solver = TSPSolver(tsp=tsp_instance)\n",
    "scfg = TSPConfig(backend=\"Loihi2\",\n",
    "                 hyperparameters={},\n",
    "                 target_cost=-1000000,\n",
    "                 timeout=1000,\n",
    "                 probe_time=False,\n",
    "                 log_level=20) # Change log level to 40 for suppressing the verbose output below\n",
    "np.random.seed(0)\n",
    "solver.solve(scfg=scfg)"
   ]
  },
  {
   "cell_type": "code",
   "execution_count": 5,
   "metadata": {},
   "outputs": [
    {
     "name": "stdout",
     "output_type": "stream",
     "text": [
      "IDs:\n",
      "[4, 3, 2, 5]\n",
      "Coords:\n",
      "[(16, 15), (16, 1), (2, 1), (2, 15)]\n"
     ]
    }
   ],
   "source": [
    "print(f\"IDs:\\n{solver.solution.solution_path_ids}\")\n",
    "print(f\"Coords:\\n{solver.solution.solution_path_coords}\")"
   ]
  }
 ],
 "metadata": {
  "kernelspec": {
   "display_name": "Python 3 (ipykernel)",
   "language": "python",
   "name": "python3"
  },
  "language_info": {
   "codemirror_mode": {
    "name": "ipython",
    "version": 3
   },
   "file_extension": ".py",
   "mimetype": "text/x-python",
   "name": "python",
   "nbconvert_exporter": "python",
   "pygments_lexer": "ipython3",
   "version": "3.8.10"
  }
 },
 "nbformat": 4,
 "nbformat_minor": 4
}
