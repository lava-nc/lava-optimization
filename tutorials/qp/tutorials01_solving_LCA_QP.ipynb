{
 "cells": [
  {
   "cell_type": "markdown",
   "id": "d377623a",
   "metadata": {},
   "source": [
    "*Copyright (C) 2021 Intel Corporation*<br>\n",
    "*SPDX-License-Identifier: BSD-3-Clause*<br>\n",
    "*See: https://spdx.org/licenses/*"
   ]
  },
  {
   "cell_type": "markdown",
   "id": "0bf9b790",
   "metadata": {},
   "source": [
    "## Implement Locally Competitive Algorithms as Quadratic Programs"
   ]
  },
  {
   "cell_type": "markdown",
   "id": "351d8a68",
   "metadata": {},
   "source": [
    "This tutorial covers how to use the Quadratic Program (QP) Solver developed in LAVA to implement Locally Competitive Algorithms (LCA) on Loihi."
   ]
  },
  {
   "cell_type": "markdown",
   "id": "9881f9ab",
   "metadata": {},
   "source": [
    "### Recommended Tutorials before starting"
   ]
  },
  {
   "cell_type": "markdown",
   "id": "0ecec58b",
   "metadata": {},
   "source": [
    "- [Installing Lava](./tutorial01_installing_lava.ipynb \"Tutorial on Installing Lava\")\n",
    "- [Processes](./tutorial02_processes.ipynb \"Tutorial on Processes\")\n",
    "- [ProcessModel](./tutorial03_process_models.ipynb \"Tutorial on ProcessModels\")\n",
    "- [Execution](./tutorial04_execution.ipynb \"Tutorial on Executing Processes\")"
   ]
  },
  {
   "cell_type": "markdown",
   "id": "bb5a37e4",
   "metadata": {},
   "source": [
    "### A QP solver on Loihi"
   ]
  },
  {
   "cell_type": "markdown",
   "id": "d60210ba",
   "metadata": {},
   "source": [
    "Loihi, by design, can only run first-order iterative algorithms. Towards this we use an update scheme that respects the limitations imposed by Loihi. The update scheme consists of two steps ,namely, Gradient descent and constraint-correction. The gradient descent evolves in the unconstrained space of the QP and the constraint-correction after the constraint-check ensures that the gradeint dynamics evolve in the feasible of the QP. <br>\n",
    "Consider the following QP,\n",
    "$$ \\text{argmin} \\frac{1}{2}x^TQx + p^Tx $$\n",
    "$$ \\text{s.t } Ax \\le k,$$ \n",
    "where $ x \\in \\mathbb{R}^n$, $ Q \\in \\mathbb{S}_{+}^{n \\times n}$, $ p \\in \\mathbb{R}^n$ , $ A \\in \\mathbb{R}^{m \\times n} $ and $ k \\in \\mathbb{R}^m$ where $m$ and $n$ are integers. This can be solved with the following first-order iterative update scheme,"
   ]
  },
  {
   "cell_type": "markdown",
   "id": "549348c6",
   "metadata": {},
   "source": [
    "$$ x_{i+1} = -\\alpha_i {d_1}(Qx_i + p) - \\beta_i A^T\\delta_G(x_i)$$"
   ]
  },
  {
   "cell_type": "markdown",
   "id": "4366d8a8",
   "metadata": {},
   "source": [
    "$$ \\delta_G(x_i) = \\left\\{\\begin{array}{lr}\n",
    "        Ax_i-k, & \\text{for } Ax_i \\leq k\\\\\n",
    "            0, & \\text{for } Ax_i \\geq k\\\\\n",
    "        \\end{array}\\right\\},  $$"
   ]
  },
  {
   "cell_type": "markdown",
   "id": "4616a312",
   "metadata": {},
   "source": [
    "where $i$ is some integer, $\\alpha_i$ is the learning rate and $\\beta_i$ is the constraint-correction rate. $\\delta_G$ is a \"graded spike\" which Loihi 2 supports. Note that equality constraints can be expressed as sandwiched inequality constraints. The process diagram for the solver in LAVA is shown below"
   ]
  },
  {
   "cell_type": "markdown",
   "id": "b6701697",
   "metadata": {},
   "source": [
    "### The LASSO problem as an LCA"
   ]
  },
  {
   "cell_type": "markdown",
   "id": "af835584",
   "metadata": {},
   "source": [
    "Consider the LASSO problem,\n",
    "$$ \\text{argmin } \\frac{1}{2}||Px - q||_2^2 $$\n",
    "$$ \\text{s.t } ||x||_1 \\leq \\tau,$$ \n",
    "where $ x \\in \\mathbb{R}^n$, $ P \\in \\mathbb{R}^{n \\times n}$, $ q \\in \\mathbb{R}^n$ , where $\\tau$ is some constant. It has been shown that the LCA dynamics in principle solve a LASSO problem. The LASSO problem can be rewritten as an exponential QP of the following form. \n",
    "$$ \\text{argmin } \\frac{1}{2}||Px - q||_2^2 $$\n",
    "$$ \\text{s.t } a_i^T||x||_1 \\leq \\tau, \\forall i$$ \n",
    "where $a_i$ are all $2^n$ vectors of $+1$ or $-1$.\n",
    "\n",
    "The exopential QP can be further expressed as:\n",
    "$$ \\text{argmin } \\frac{1}{2}x^TQx + p^Tx$$\n",
    "$$ \\text{s.t } a_i^T||x||_1 \\leq \\tau, \\forall i$$ \n",
    "where $Q = P^TP$ , $p= -P^Tq$. We ignore the constant term as it does not affect the solution of the QP.\n"
   ]
  },
  {
   "cell_type": "markdown",
   "id": "1ea4edd1",
   "metadata": {},
   "source": [
    "### Using the Loihi QP solver to solve LASSO"
   ]
  },
  {
   "cell_type": "code",
   "execution_count": 1,
   "id": "ac2968d6",
   "metadata": {},
   "outputs": [],
   "source": [
    "# Import the QP solver and Problem classes\n",
    "import numpy as np\n",
    "from src.lava.lib.optimization.problems.problems import QP\n",
    "from src.lava.lib.optimization.solvers.qp.solver import QPSolver"
   ]
  },
  {
   "cell_type": "markdown",
   "id": "a29f6856",
   "metadata": {},
   "source": [
    "Consider the LASSO problem with "
   ]
  },
  {
   "cell_type": "code",
   "execution_count": 2,
   "id": "11319633",
   "metadata": {},
   "outputs": [],
   "source": [
    "P = np.array([[3, 1, 2], [10, 3, 2], [0, 0, 5]])\n",
    "q = np.array([[1, 2, 1]]).T\n",
    "tau = 10"
   ]
  },
  {
   "cell_type": "markdown",
   "id": "f85350ec",
   "metadata": {},
   "source": [
    "We now rewrite the LASSO problem as QP and feed it to our solver. Note that the solver does some preconditioning before applying the first-order algorithm explained above. "
   ]
  },
  {
   "cell_type": "code",
   "execution_count": 7,
   "id": "7216a67b",
   "metadata": {},
   "outputs": [],
   "source": [
    "## setting up the LASSO problem\n",
    "Q = P.T@P\n",
    "p = -P.T@q\n",
    "A = np.array([[-1, -1,  1], \n",
    "              [-1,  1, -1],\n",
    "              [-1,  1,  1],\n",
    "              [ 1, -1, -1],\n",
    "              [ 1, -1,  1],\n",
    "              [ 1,  1, -1],\n",
    "              [ 1,  1,  1],\n",
    "              [-1, -1, -1],\n",
    "             ])\n",
    "k = tau*np.array([[1, 1, 1, 1, 1, 1, 1, 1]]).T\n",
    "\n",
    "## Learning constants for the solver\n",
    "alpha, beta = 1, 1\n",
    "alpha_d, beta_g = 10000, 10000"
   ]
  },
  {
   "cell_type": "code",
   "execution_count": 8,
   "id": "0ca7ed5e",
   "metadata": {},
   "outputs": [
    {
     "name": "stdout",
     "output_type": "stream",
     "text": [
      "[LavaQpOpt][INFO]: The solution after 500 runs is [[0.09252278]\n",
      " [0.        ]\n",
      " [0.15291376]]\n",
      "[LavaQpOpt][INFO]: QP Solver ran in 48.585559368133545 seconds\n"
     ]
    }
   ],
   "source": [
    "problem = QP(Q=Q, p=p, A=A, k=k)\n",
    "solver = QPSolver(\n",
    "    alpha=alpha,\n",
    "    beta=beta,\n",
    "    alpha_decay_schedule=alpha_d,\n",
    "    beta_growth_schedule=beta_g,\n",
    "    runs = 500\n",
    ")\n",
    "solver.solve(problem)"
   ]
  },
  {
   "cell_type": "markdown",
   "id": "28e0a145",
   "metadata": {},
   "source": [
    "Note that the actual solution to this problem is $(0.144, 0.05, 0.205)$ which is close to the solution obtained above. Hence the neuromorphic QP solver demonstrates convergent behavior. Further improvements to the tuning heuristics, the QP solver and LAVA core are expected to improve the speed and accuracy of the solver. "
   ]
  },
  {
   "cell_type": "markdown",
   "id": "16d5945d",
   "metadata": {},
   "source": [
    "### Features and Fixes to Support"
   ]
  },
  {
   "cell_type": "markdown",
   "id": "8233e5d1",
   "metadata": {},
   "source": [
    "- Loihi used Fixed-point arithmetic with limited precision to perform arithmetic operations. Support for this will be added to the solver/simulator soon. \n",
    "- The speed of the solver is slower than the pure numpy implementation. This will be fixed in an upcoming release.\n",
    "- A dedicated LCA solver with convolutional layer support will be added to the toolbox soon.\n",
    "- Principled tuning guidelines of the $\\beta$ parameter for constraint-correction will be added soon."
   ]
  },
  {
   "cell_type": "markdown",
   "id": "7378a2f9",
   "metadata": {},
   "source": [
    "### How to learn more?\n",
    "\n",
    "Watch this space to learn about upcoming developments to the QP solver and to the optimization toolbox in LAVA in general. \n",
    "\n",
    "If you want to find out more about the implementation of the QP solver, have a look at the [Lava documentation](https://lava-nc.org/ \"Lava Documentation\") or dive into the [source code](https://github.com/lava-nc/lava-optimization/tree/main/src/lava/lib/optimization/solvers/qp\n",
    "\"QP source code\").\n",
    "To receive regular updates on the latest developments and releases of the Lava Software Framework please subscribe to the [INRC newsletter](http://eepurl.com/hJCyhb \"INRC Newsletter\")."
   ]
  }
 ],
 "metadata": {
  "kernelspec": {
   "display_name": "Python 3 (ipykernel)",
   "language": "python",
   "name": "python3"
  },
  "language_info": {
   "codemirror_mode": {
    "name": "ipython",
    "version": 3
   },
   "file_extension": ".py",
   "mimetype": "text/x-python",
   "name": "python",
   "nbconvert_exporter": "python",
   "pygments_lexer": "ipython3",
   "version": "3.8.5"
  }
 },
 "nbformat": 4,
 "nbformat_minor": 5
}
