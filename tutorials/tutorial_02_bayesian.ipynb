{
 "cells": [
  {
   "cell_type": "markdown",
   "id": "d377623a",
   "metadata": {},
   "source": [
    "*Copyright (C) 2021 Intel Corporation*<br>\n",
    "*SPDX-License-Identifier: BSD-3-Clause*<br>\n",
    "*See: https://spdx.org/licenses/*"
   ]
  },
  {
   "cell_type": "markdown",
   "id": "0bf9b790",
   "metadata": {},
   "source": [
    "## Bayesian Optimization with Lava"
   ]
  },
  {
   "cell_type": "markdown",
   "id": "351d8a68",
   "metadata": {},
   "source": [
    "This tutorial covers how to use the Bayesian Solver developed in Lava to optimize multi-dimensional black-box functions and demonstrates their use in larger process-based lava applications."
   ]
  },
  {
   "cell_type": "markdown",
   "id": "9881f9ab",
   "metadata": {},
   "source": [
    "### Recommended Tutorials before starting"
   ]
  },
  {
   "cell_type": "markdown",
   "id": "0ecec58b",
   "metadata": {},
   "source": [
    "- [Installing Lava](https://github.com/lava-nc/lava/blob/main/tutorials/in_depth/tutorial01_installing_lava.ipynb)\n",
    "- [Processes](https://github.com/lava-nc/lava/blob/main/tutorials/in_depth/tutorial02_processes.ipynb \"Tutorial on Processes\")\n",
    "- [ProcessModel](https://github.com/lava-nc/lava/blob/main/tutorials/in_depth/tutorial03_process_models.ipynb \"Tutorial on ProcessModels\")\n",
    "- [Execution](https://github.com/lava-nc/lava/blob/main/tutorials/in_depth/tutorial04_execution.ipynb \"Tutorial on Executing Processes\")"
   ]
  },
  {
   "cell_type": "markdown",
   "id": "439eaaeb",
   "metadata": {},
   "source": [
    "### Why Bayesian Optimization?\n",
    "\n",
    "Many state-of-the-art systems in the neuromorphic and greater scientific community have a plethora of hyperparameters that drastically effect the performance of a system. How to learn the trade-offs of changing different parameters has become a major research question with solutions comprising a variety of techniques such as evolutionary algorithms, quadratic programming, Bayesian optimization, etc.\n",
    "\n",
    "**Bayes Theorem:**\n",
    "- $ P(B|A) = \\frac{P(B|A)*P(A)}{P(B)} $\n",
    "\n",
    "**Taking a closer look:**\n",
    "- $ A, B = \\text{correlated events} $\n",
    "- $ P(A) = \\text{independent probability of A} $\n",
    "- $ P(B) = \\text{independent probability of B} $\n",
    "- $ P(A, B) = \\text{the probability of } A \\text{ given } B$\n",
    "- $ P(B, A) = \\text{the probability of } B \\text{ given } A$\n",
    "\n",
    "Using the aforementioned theorem, Bayesian optimization creates an approximation of the underlying black-box function based on prior knowledge to predict the probability of subsequent events.\n",
    "\n",
    "For information of the details of Bayesian optimization, *\"A Tutorial on Bayesian Optimizer\"* by Frazier, P.I. provides a great introduction."
   ]
  },
  {
   "cell_type": "markdown",
   "id": "bb5a37e4",
   "metadata": {},
   "source": [
    "### A Bayesian Optimizer in Lava\n",
    "\n",
    "To highlight the ability of the eventified Bayesian optimization system in Lava-Optimization, we will define a multi-dimensional, single-object \"black-box\" function, create the appropriate processes and models, along with instantiating the solver.\n",
    "\n",
    "For our test function, we'll use the Ackley function proposed by David Ackley in his dissertation as a test function for optimization problems:\n",
    "\n",
    "$f(x_0, x_1) = -20\\text{exp}[-0.2\\sqrt{0.5 * (x_0^2+x_1^2)}]-\\text{exp}[0.5(\\text{cos}2\\pi x_0 + \\text{cos}2\\pi x_1)] + e + 20$\n",
    "\n",
    "*Ackley, D. H. (1987) \"A connectionist machine for genetic hillclimbing\", Kluwer Academic Publishers, Boston MA.*"
   ]
  },
  {
   "cell_type": "markdown",
   "id": "9896ba06",
   "metadata": {},
   "source": [
    "### Step 1) Importing all required packages"
   ]
  },
  {
   "cell_type": "code",
   "execution_count": 35,
   "id": "1fe492e4",
   "metadata": {},
   "outputs": [],
   "source": [
    "import math\n",
    "import numpy as np\n",
    "\n",
    "from lava.magma.core.decorator import implements, requires, tag\n",
    "from lava.magma.core.model.py.model import PyLoihiProcessModel\n",
    "from lava.magma.core.model.py.ports import PyInPort, PyOutPort\n",
    "from lava.magma.core.model.py.type import LavaPyType\n",
    "from lava.magma.core.process.ports.ports import InPort, OutPort\n",
    "from lava.magma.core.process.process import AbstractProcess\n",
    "from lava.magma.core.process.variable import Var\n",
    "from lava.magma.core.resources import CPU\n",
    "from lava.magma.core.sync.protocols.loihi_protocol import LoihiProtocol\n",
    "\n",
    "from lava.lib.optimization.solvers.bayesian.solver import BayesianSolver"
   ]
  },
  {
   "cell_type": "markdown",
   "id": "10211806",
   "metadata": {},
   "source": [
    "### Step 2) Defining Lava process for the Ackley function"
   ]
  },
  {
   "cell_type": "code",
   "execution_count": 36,
   "id": "abb86b5a",
   "metadata": {},
   "outputs": [],
   "source": [
    "class AckleyFuncProcess(AbstractProcess):\n",
    "    \"\"\"Process defining the architecture of the Ackley function\n",
    "    \"\"\"\n",
    "    def __init__(self, num_params: int = 2, num_objectives: int = 1,\n",
    "        **kwargs) -> None:\n",
    "        \"\"\"initialize the AckleyFuncProcess\n",
    "\n",
    "        Parameters\n",
    "        ----------\n",
    "        num_params : int\n",
    "            an integer specifying the number of parameters within the\n",
    "            search space\n",
    "        num_objectives : int\n",
    "            an integer specifying the number of qualitative attributes\n",
    "            used to measure the black-box function\n",
    "        \"\"\"\n",
    "        super().__init__(**kwargs)\n",
    "\n",
    "        # Internal State Variables\n",
    "        self.num_params = Var((1,), init=num_params)\n",
    "        self.num_objectives = Var((1,), init=num_objectives)\n",
    "\n",
    "        # Input/Output Ports\n",
    "        self.x_in = InPort((num_params, 1))\n",
    "        self.y_out = OutPort(((num_params + num_objectives), 1))"
   ]
  },
  {
   "cell_type": "markdown",
   "id": "74659187",
   "metadata": {
    "tags": []
   },
   "source": [
    "### Step 3) Defining Python model of our process"
   ]
  },
  {
   "cell_type": "code",
   "execution_count": 37,
   "id": "7a850a17",
   "metadata": {},
   "outputs": [],
   "source": [
    "@implements(proc = AckleyFuncProcess, protocol = LoihiProtocol)\n",
    "@requires(CPU)\n",
    "@tag(\"floating_pt\")\n",
    "class PyAckleyFuncProcessModel(PyLoihiProcessModel):\n",
    "    \"\"\"\n",
    "    A Python-based implementation of the Ackley function process.\n",
    "    \"\"\"\n",
    "\n",
    "    x_in: PyInPort = LavaPyType(PyInPort.VEC_DENSE, np.float64)\n",
    "    y_out: PyOutPort = LavaPyType(PyOutPort.VEC_DENSE, np.float64)\n",
    "\n",
    "    num_params = LavaPyType(int, int)\n",
    "    num_objectives = LavaPyType(int, int)\n",
    "\n",
    "    def run_spk(self) -> None:\n",
    "        \"\"\"tick the model forward by one time-step\"\"\"\n",
    "        x = self.x_in.recv()\n",
    "        y = -20 * math.exp(-0.2 * math.sqrt(0.5 * (x[0]**2 + x[1]**2)))\n",
    "        y -= math.exp(0.5 * (math.cos(2 * math.pi * x[0]) + \\\n",
    "            math.cos(2 * math.pi * x[1])))\n",
    "        y += math.e + 20\n",
    "\n",
    "        output_length: int = self.num_params + self.num_objectives\n",
    "        output = np.ndarray(\n",
    "            shape=(output_length, 1),\n",
    "            buffer=np.array([x[0], x[1], y])\n",
    "        )\n",
    "\n",
    "        self.y_out.send(output)"
   ]
  },
  {
   "cell_type": "markdown",
   "id": "04342e40-afbb-49fa-b299-dc1950ea633f",
   "metadata": {
    "tags": []
   },
   "source": [
    "### Step 4) Creating Search Space"
   ]
  },
  {
   "cell_type": "markdown",
   "id": "eaacc53b",
   "metadata": {},
   "source": [
    "All hyperparameter searches are defined by their search spaces. The Bayesian Solver supports three types of parameter dimensions: integer, continuous, and categorical. All dimensions are specified with NumPy n-dimensional arrays of shape (5, \\<number of dimensions\\>). **It is extremely important that the number of dimensions of your parameter search space matches the input shape of your black-box process!**\n",
    "\n",
    "For each of your parameters:\n",
    "1) specify the type of parameter, where the type shall be placed at index 0.\n",
    "    - Integer = \"integer\"\n",
    "    - Continuous = \"continuous\"\n",
    "    - Categorical = \"categorical\"\n",
    "2) (integer/continuous-based parameters) define the minimum and maximum bounds\n",
    "    - Minimum : np.float64 --> index 1\n",
    "    - Maximum : np.float64 --> index 2\n",
    "    - Categories : np.nan --> index 3\n",
    "3) (categorical parameters) we need to specify all of the categorical options \n",
    "    - Minimum : np.nan --> index 1\n",
    "    - Maximum : np.nan --> index 2\n",
    "    - Categories : list[\\<categories\\>] --> index 3\n",
    "4) specify a unique identifier for the parameter\n",
    "    - Name: str --> index 4"
   ]
  },
  {
   "cell_type": "code",
   "execution_count": 38,
   "id": "42dfda2e-b6de-43ff-9775-20bcb99c761f",
   "metadata": {},
   "outputs": [],
   "source": [
    "# given that the Ackley function accepts two continuous parameters, we will make\n",
    "# a search space that has one continuous dimension and one categorical dimension\n",
    "search_space: np.ndarray = np.array([\n",
    "    [\"continuous\", np.float64(-5), np.float64(5), np.nan, \"x0\"],\n",
    "    [\"categorical\", np.nan, np.nan, [x for x in range(-5, 5, 100)], \"x1\"]\n",
    "], dtype=object)"
   ]
  },
  {
   "cell_type": "markdown",
   "id": "11220a43",
   "metadata": {},
   "source": [
    "### Step 5) Initialize Bayesian Solver\n",
    "\n",
    "Given the complexity of the lower-level aspects of the Bayesian optimization process, the BayesianSolver has a complex configuration schema that needs to be followed.\n",
    "\n",
    "#### Parameters:\n",
    "1) **acq_func_config** : dict\n",
    "    - **\"type\":** str\n",
    "        - *Summary:* specify the function to minimize over the posterior distribution\n",
    "        - *Option 1:* \"LCB\" = lower confidence bound\n",
    "        - *Option 2:* \"EI\" = negative expected improvement\n",
    "        - *Option 3:* \"PI\" = negative probability of improvement\n",
    "        - *Option 4:* \"gp_hedge\" = probabilistically determine which of the aforementioned functions to use at every iteration\n",
    "        - *Option 5:* \"EIps\" = negative expected improved with consideration of the total function runtime\n",
    "        - *Option 6:* \"PIps\" = negative probability of improvement while taking into account the total function runtime\n",
    "2) **acq_opt_config** : dict\n",
    "    - **\"type\"** : str\n",
    "        - *Summary:* specify the method to minimize the acquisition function\n",
    "        - *Option 1:* \"sampling\" = random selection from the acquisition function\n",
    "        - *Option 2:* \"lbfgs\" = inverse Hessian matrix estimation\n",
    "        - *Option 3:* \"auto\" = automatically configure based on the search space\n",
    "3) **enable_plotting** : bool\n",
    "    - *Summary:* configure if the optimizer should plot the results after every Bayesian iteration\n",
    "4) **ip_gen_config** : dict\n",
    "    - **\"type\"**: str\n",
    "        - *Summary:* specify the method to explore the search space before the Gaussian regressor starts to converge\n",
    "        - *Option 1:* \"random\" = uniform distribution of random numbers\n",
    "        - *Option 2:* \"sobol\" = Sobol sequence\n",
    "        - *Option 3:* \"halton\" = Halton sequence\n",
    "        - *Option 4:* \"hammersly\" = Hammersly sequence\n",
    "        - *Option 5:* \"lhs\" = latin hypercube sequence\n",
    "        - *Option 6:* \"grid\" = uniform grid sequence\n",
    "5) **log_dir** : str\n",
    "    - *Summary:* a path to an existing directory where all log files and plots will be saved\n",
    "6) **num_ips** : int\n",
    "    - *Summary:* the number of points to explore with the initial point generator before using the regressor\n",
    "7) **seed** : int\n",
    "    - *Summary:* An integer seed that sets the random state increases consistency in subsequent runs\n",
    "8) **est_config** : dict\n",
    "    - **\"type\"**: str\n",
    "        - *Summary:* specify the type of surrogate regressor to learn the search space:\n",
    "        = *Option 1:* \"GP\" - gaussian process regressor\n",
    "9) **num_objectives** : int\n",
    "    - *Summary:* specify the number of objectives to optimize over; currently limited to single objective"
   ]
  },
  {
   "cell_type": "code",
   "execution_count": 39,
   "id": "b2a7fcfb-64f4-45ea-b2d4-3086fbcb5ced",
   "metadata": {},
   "outputs": [],
   "source": [
    "log_dir: str =  \".\"\n",
    "num_ips: int = 5\n",
    "seed: int = 0\n",
    "\n",
    "solver = BayesianSolver(\n",
    "    acq_func_config = {\"type\": \"gp_hedge\"},\n",
    "    acq_opt_config = {\"type\": \"auto\"},\n",
    "    enable_plotting = True,\n",
    "    ip_gen_config = {\"type\": \"random\"},\n",
    "    log_dir = log_dir,\n",
    "    num_ips = num_ips,\n",
    "    seed = seed\n",
    ")"
   ]
  },
  {
   "cell_type": "markdown",
   "id": "a46f7736",
   "metadata": {},
   "source": [
    "### Step 6) Solve the black-box process"
   ]
  },
  {
   "cell_type": "code",
   "execution_count": 41,
   "id": "322c367a",
   "metadata": {},
   "outputs": [
    {
     "ename": "TypeError",
     "evalue": "BayesianSolver.solve() got an unexpected keyword argument 'problem_model'",
     "output_type": "error",
     "traceback": [
      "\u001b[0;31m---------------------------------------------------------------------------\u001b[0m",
      "\u001b[0;31mTypeError\u001b[0m                                 Traceback (most recent call last)",
      "\u001b[1;32m/Users/shaysnyder/Library/Mobile Documents/com~apple~CloudDocs/dev/lava/lava-optimization/tutorials/tutorial_02_bayesian.ipynb Cell 20\u001b[0m in \u001b[0;36m<cell line: 12>\u001b[0;34m()\u001b[0m\n\u001b[1;32m      <a href='vscode-notebook-cell:/Users/shaysnyder/Library/Mobile%20Documents/com~apple~CloudDocs/dev/lava/lava-optimization/tutorials/tutorial_02_bayesian.ipynb#ch0000019?line=8'>9</a>\u001b[0m num_iter: \u001b[39mint\u001b[39m \u001b[39m=\u001b[39m \u001b[39m25\u001b[39m\n\u001b[1;32m     <a href='vscode-notebook-cell:/Users/shaysnyder/Library/Mobile%20Documents/com~apple~CloudDocs/dev/lava/lava-optimization/tutorials/tutorial_02_bayesian.ipynb#ch0000019?line=10'>11</a>\u001b[0m \u001b[39m# 3) solve the problem!\u001b[39;00m\n\u001b[0;32m---> <a href='vscode-notebook-cell:/Users/shaysnyder/Library/Mobile%20Documents/com~apple~CloudDocs/dev/lava/lava-optimization/tutorials/tutorial_02_bayesian.ipynb#ch0000019?line=11'>12</a>\u001b[0m solver\u001b[39m.\u001b[39;49msolve(\n\u001b[1;32m     <a href='vscode-notebook-cell:/Users/shaysnyder/Library/Mobile%20Documents/com~apple~CloudDocs/dev/lava/lava-optimization/tutorials/tutorial_02_bayesian.ipynb#ch0000019?line=12'>13</a>\u001b[0m     name \u001b[39m=\u001b[39;49m experiment_name,\n\u001b[1;32m     <a href='vscode-notebook-cell:/Users/shaysnyder/Library/Mobile%20Documents/com~apple~CloudDocs/dev/lava/lava-optimization/tutorials/tutorial_02_bayesian.ipynb#ch0000019?line=13'>14</a>\u001b[0m     num_iter \u001b[39m=\u001b[39;49m num_iter,\n\u001b[1;32m     <a href='vscode-notebook-cell:/Users/shaysnyder/Library/Mobile%20Documents/com~apple~CloudDocs/dev/lava/lava-optimization/tutorials/tutorial_02_bayesian.ipynb#ch0000019?line=14'>15</a>\u001b[0m     problem \u001b[39m=\u001b[39;49m problem,\n\u001b[1;32m     <a href='vscode-notebook-cell:/Users/shaysnyder/Library/Mobile%20Documents/com~apple~CloudDocs/dev/lava/lava-optimization/tutorials/tutorial_02_bayesian.ipynb#ch0000019?line=15'>16</a>\u001b[0m     problem_model \u001b[39m=\u001b[39;49m PyAckleyFuncProcessModel\n\u001b[1;32m     <a href='vscode-notebook-cell:/Users/shaysnyder/Library/Mobile%20Documents/com~apple~CloudDocs/dev/lava/lava-optimization/tutorials/tutorial_02_bayesian.ipynb#ch0000019?line=16'>17</a>\u001b[0m )\n",
      "\u001b[0;31mTypeError\u001b[0m: BayesianSolver.solve() got an unexpected keyword argument 'problem_model'"
     ]
    }
   ],
   "source": [
    "# Now we are at the final stages of the process! Before we can solve the problem, we need to do a few things:\n",
    "\n",
    "# 1) initialize the Ackley function process\n",
    "problem = AckleyFuncProcess()\n",
    "__\n",
    "\n",
    "# 2) specify the experiment name and the number of optimization iteration\n",
    "experiment_name: str = \"bayesian_tutorial_results\"\n",
    "num_iter: int = 25\n",
    "\n",
    "# 3) solve the problem!\n",
    "solver.solve(\n",
    "    name = experiment_name,\n",
    "    num_iter = num_iter,\n",
    "    problem = problem,\n",
    "    search_space = search_space,\n",
    ")"
   ]
  },
  {
   "cell_type": "markdown",
   "id": "4cb880a2",
   "metadata": {},
   "source": [
    "### Moving Forward\n",
    "\n",
    "Now you have seen how to create and solve a black-box function using the eventified Bayesian solver in Lava!\n",
    "\n",
    "If you are interested in learning more about the details of the specific implementation of the solver and\n",
    "the lower-level processes, have a look at the [Lava documentation](https://lava-nc.org/ \"Lava Documentation\") or dive into the [source code](https://github.com/lava-nc/lava-optimization/tree/main/src/lava/lib/optimization/solvers/qp\n",
    "\"QP source code\").\n",
    "\n",
    "To receive regular updates on the latest developments and releases of the Lava Software Framework please subscribe to the [INRC newsletter](http://eepurl.com/hJCyhb \"INRC Newsletter\")."
   ]
  },
  {
   "cell_type": "code",
   "execution_count": null,
   "id": "b50d8a10-8564-457a-8e7c-c91925bba574",
   "metadata": {},
   "outputs": [],
   "source": []
  }
 ],
 "metadata": {
  "kernelspec": {
   "display_name": "Python 3 (ipykernel)",
   "language": "python",
   "name": "python3"
  },
  "language_info": {
   "codemirror_mode": {
    "name": "ipython",
    "version": 3
   },
   "file_extension": ".py",
   "mimetype": "text/x-python",
   "name": "python",
   "nbconvert_exporter": "python",
   "pygments_lexer": "ipython3",
   "version": "3.10.5"
  },
  "vscode": {
   "interpreter": {
    "hash": "7dcde5a8018eca2a9d69f4b83b750a86fa31fccf7f4b375a4803335998246332"
   }
  }
 },
 "nbformat": 4,
 "nbformat_minor": 5
}
