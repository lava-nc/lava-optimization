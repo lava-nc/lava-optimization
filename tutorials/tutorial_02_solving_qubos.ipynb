{
 "cells": [
  {
   "cell_type": "markdown",
   "id": "7dca7602",
   "metadata": {},
   "source": [
    "*Copyright (C) 2021 Intel Corporation*<br>\n",
    "*SPDX-License-Identifier: BSD-3-Clause*<br>\n",
    "*See: https://spdx.org/licenses/*\n",
    "\n",
    "---\n",
    "\n",
    "# Quadratic Unconstrained Binary Optimization (QUBO) with Lava\n",
    "\n",
    "This tutorial ramps up users who want to use Lava's solver for quadratic unconstraint binary optimization (QUBO) problems. It starts with an intuitive description of the algorithm behind the solver, before it explains how to generally encode and solve arbitrary QUBO workloads on CPU and Loihi2. As example application, we will apply the solver to search for the the maximum independent set of a graph. An outlook will finally give a glimpse into the future features of the Lava solver that will be enabled in later software releases. \n",
    "\n",
    "In a future release, this tutorial will also provide guidance to benchmark between Loihi1, Loihi2, and\n",
    "CPU-based state-of-the-art solvers. Benchmarking metrics will include the solution accuracy, run\n",
    "time, and energy consumption."
   ]
  },
  {
   "cell_type": "markdown",
   "id": "33f5ee96",
   "metadata": {},
   "source": [
    "## Recommended tutorials before starting\n",
    "\n",
    "- [Installing Lava](./tutorial01_installing_lava.ipynb \"Tutorial on Installing Lava\")"
   ]
  },
  {
   "cell_type": "markdown",
   "id": "c190a5a6",
   "metadata": {},
   "source": [
    "## Set up the environment"
   ]
  },
  {
   "cell_type": "markdown",
   "id": "7617dfdb",
   "metadata": {},
   "source": [
    "To solve QUBOs on Loihi2, we import the corresponding modules from Lava."
   ]
  },
  {
   "cell_type": "code",
   "execution_count": null,
   "id": "a0864507",
   "metadata": {},
   "outputs": [],
   "source": [
    "# Interface for QUBO problems\n",
    "from lava.lib.optimization.problems.problems import QUBO\n",
    "# Generic optimization solver\n",
    "from lava.lib.optimization.solvers.generic.solver import OptimizationSolver, solve"
   ]
  },
  {
   "cell_type": "markdown",
   "id": "ba620b77",
   "metadata": {},
   "source": [
    "In addition, we import auxiliary modules to generate the workloads and run the solver."
   ]
  },
  {
   "cell_type": "code",
   "execution_count": null,
   "id": "f255560d",
   "metadata": {},
   "outputs": [],
   "source": [
    "import os\n",
    "import numpy as np"
   ]
  },
  {
   "cell_type": "markdown",
   "id": "73d93682",
   "metadata": {},
   "source": [
    "If Loihi 2 hardware is available, we can take advantage of the large speed and energy efficiency of this chip to solve QUBOs. To access the chip, we must configure the following environment variables."
   ]
  },
  {
   "cell_type": "code",
   "execution_count": null,
   "id": "3338d93b",
   "metadata": {},
   "outputs": [],
   "source": [
    "# Enable SLURM, the workload manager used to distribute Loihi2 resources to users\n",
    "os.environ['SLURM'] = '1'\n",
    "\n",
    "# Define the Loihi2 boards used to run the workload\n",
    "os.environ[\"LOIHI_GEN\"] = \"N3B3\"\n",
    "os.environ[\"PARTITION\"] = \"kp_stack\""
   ]
  },
  {
   "cell_type": "markdown",
   "id": "9b10596f",
   "metadata": {},
   "source": [
    "## An intuitive description of Lava's QUBO solver"
   ]
  },
  {
   "cell_type": "markdown",
   "id": "ab5535e0",
   "metadata": {},
   "source": [
    "In previous work, we found that our first generation Loihi 1 chip can solve QUBOs more than 17x faster and more than 670x more energie efficient than the CPU-based solver QBSolv. This solver was developed by DWave Systems and, according to their benchmarking, \"executes in two-thirds of the time of the best previously known implementation\" [1].\n",
    "\n",
    "Our Lava solver translates this solver to Loihi 2 to exploit this chip's higher speed, efficiency, and new hardware features designed for optimization."
   ]
  },
  {
   "cell_type": "markdown",
   "id": "d933e4ba",
   "metadata": {},
   "source": [
    "#### The QUBO formalism"
   ]
  },
  {
   "cell_type": "markdown",
   "id": "f8e1426d",
   "metadata": {},
   "source": [
    "A quadratic unconstrained binary optimization (QUBO) task is an NP-hard combinatorial optimization problem with a range of industrial applications. Its goal is to minimize the cost function\n",
    "\n",
    "&emsp;&emsp; $\\underset{x}{\\text{min}}\\; \\mathbf{x}^T \\mathbf{Q} \\mathbf{x} $ ,\n",
    "\n",
    "which is subject to no constraints. This equation is defined by the QUBO matrix $\\mathbf{Q}\\in\\mathbb{R}^{n\\times n}$ and the vector of binary variables, $\\mathbf{x} \\in \\{0,1\\}^n$ ."
   ]
  },
  {
   "cell_type": "markdown",
   "id": "e94a9fa7",
   "metadata": {},
   "source": [
    "#### Lava's QUBO solver"
   ]
  },
  {
   "attachments": {},
   "cell_type": "markdown",
   "id": "56046a73",
   "metadata": {},
   "source": [
    "To solve QUBOs, Lava currently implements a spiking version of a Boltzmann machine that was inspired by the work of Jonke et al. [2]. A detailed algorithmic description of the solver will be published soon.\n",
    "\n",
    "To give a rough intuition of the solver, it represents binary variables as neurons that either spike (variable value=1) or are silent (value=0).\n",
    "\n",
    "<br>\n",
    "\n",
    "<img src=\"https://user-images.githubusercontent.com/86950058/192372805-b974e39b-fae8-4a68-810b-f52a9363987b.png\" width=\"500\" align=\"center\"/>\n",
    "    \n",
    "Each neuron has an internal state representing the probability that the neuron should spike. When the state exceeds a threshold, the neuron spikes and the variable is thus switched to 1. Once a spike occurs at neuron $i$, the synapses forward the spikes according to the off-diagonal QUBO weights $Q_{ij}$ to other neurons $j$. Negative weights increase the chance that the connected neuron will spike, positive weights decrease the chance. <br>\n",
    "On-diagonal weights $Q_{ii}$ add a bias to the neurons state variable, which continuously increases the chance that the neuron will spike.\n",
    "\n",
    "<br>\n",
    "\n",
    "<img src=\"https://user-images.githubusercontent.com/86950058/192372894-a6f757e5-a6bf-47bb-8254-08de9188d029.png\" width=\"800\"  align=\"center\"/>"
   ]
  },
  {
   "cell_type": "markdown",
   "id": "fd4e73f6",
   "metadata": {},
   "source": [
    "## A quick start to solving QUBOs on Loihi 2"
   ]
  },
  {
   "cell_type": "markdown",
   "id": "2f96d62c",
   "metadata": {},
   "source": [
    "Solving the QUBO in Lava involves three steps:\n",
    "<ol>\n",
    "<li>Define the QUBO workload.</li>\n",
    "<li>Provide a set of hyperparameters.</li>\n",
    "<li>Call the Lava solver.</li>\n",
    "</ol>\n",
    "\n",
    "The following code will solve the toy QUBO defined by\n",
    "\n",
    "&emsp;&emsp; $\\underset{x}{\\text{min}}\\; \\mathbf{x}^T \n",
    "\\begin{pmatrix}\n",
    "-5& 2 & 4 & 0 \\\\\n",
    " 2& -3& 1 & 0 \\\\\n",
    " 4& 1 & -8& 5 \\\\\n",
    " 0& 0 & 5 & -6\n",
    "\\end{pmatrix}\n",
    "\\mathbf{x} $ ."
   ]
  },
  {
   "cell_type": "markdown",
   "id": "842128f2",
   "metadata": {},
   "source": [
    "#### Define a QUBO workload"
   ]
  },
  {
   "cell_type": "markdown",
   "id": "1c5c0c53",
   "metadata": {},
   "source": [
    "Lava provides an easy interface to encode QUBO problems, by providing the QUBO matrix. Once encoded, the problem is provided to Lava's _OptimizationSolver_, a generic solver for constraint optimization problems."
   ]
  },
  {
   "cell_type": "code",
   "execution_count": null,
   "id": "21f3abda",
   "metadata": {},
   "outputs": [],
   "source": [
    "# Define the QUBO matrix\n",
    "q = np.asarray([[-5, 2, 4, 0],\n",
    "                [2, -3, 1, 0],\n",
    "                [4, 1, -8, 5],\n",
    "                [0, 0, 5, -6]])\n",
    "\n",
    "# Instantiate the QUBO problem\n",
    "qubo_problem = QUBO(q=q)\n",
    "\n",
    "# Instantiate a constraint optimization solver for this workload\n",
    "solver = OptimizationSolver(qubo_problem)"
   ]
  },
  {
   "cell_type": "markdown",
   "id": "d7a89ffb",
   "metadata": {},
   "source": [
    "#### Provide a set of hyperparameters\n"
   ]
  },
  {
   "cell_type": "markdown",
   "id": "8c92189d",
   "metadata": {},
   "source": [
    "The solution quality and run time of Lava's solver depends on a good choice of hyperparameters. This choice depends on the specific type of problem. While the hyperparameter tuning is currently a manual task, future releases will provide utilities for its automation.\n",
    "\n",
    "Lava's optimization solver supports four hyperparameters:\n",
    "\n",
    "| Hyperparameter | Data type | Allowed range | Meaning | \n",
    "| :- | :- | :- | :-|\n",
    "| var_comm_rate | int | $[1, 2^{24}]$ | Number of time steps it requires a neuron to fire in the absence of noise.\n",
    "| noise_amplitude | int | $[0, 2^{24}-1]$ | Multiplicative factor to upscale the stochastic noise in the network.\n",
    "| step_size | int | $[1, 2^{24}]$ | Value added in each time step to the state variable.\n",
    "| init_value | Array[binary] | {0, 1} | Vector providing an initial guess for the solution.\n",
    "\n",
    "The hyperparamaters are provided to the solver as dictionary."
   ]
  },
  {
   "cell_type": "code",
   "execution_count": null,
   "id": "468e387d",
   "metadata": {},
   "outputs": [],
   "source": [
    "hyperparameters = {\n",
    "    \"steps_to_fire\": 8,\n",
    "    \"noise_amplitude\": 4,\n",
    "    \"step_size\": 1,\n",
    "    \"init_value\": np.zeros(4, )\n",
    "}"
   ]
  },
  {
   "cell_type": "markdown",
   "id": "3060c73b",
   "metadata": {},
   "source": [
    "#### Solve the QUBO on a CPU or Loihi 2"
   ]
  },
  {
   "cell_type": "markdown",
   "id": "40786f3f",
   "metadata": {},
   "source": [
    "A call to the _solve_ method of Lava's optimization solver then tackles the provided workload. Note that the call defines a CPU as backend to run the solver.\n",
    "\n",
    "When running on a CPU backend, Lava's solver mimics the algorithm developed for Loihi 2 at default. In future releases, Lava will also allow to run external state-of-the-art CPU-based algorithms for comparison.\n",
    "\n",
    "As stopping condition, you can provide the solver with a maximum number of time steps (_timeout_) and/or a target cost. In many cases, the user will not know the target cost and thus choose a maximum number of time steps. Providing a target cost is more useful if the user knows a cost that would be acceptable for the specific application. These two options will be extended in the future by more advanced stopping criteria, such as convergence.\n",
    "\n",
    "Lava will print an obtained solution whenever it found a local minimum. Then it continues its search until either stopping condition is fullfilled."
   ]
  },
  {
   "cell_type": "markdown",
   "id": "768db495",
   "metadata": {},
   "source": [
    "If your system has physical access to a Loihi2 chip, you can easily run the the QUBO solver on Loihi2. For this, just change the the _backend_ parameter in the following cell as indicated. \n",
    "\n",
    "While the CPU implementation closely mimics the Loihi2 implementation, the solutions may differ. This is due to slightly different noise models."
   ]
  },
  {
   "cell_type": "code",
   "execution_count": null,
   "id": "68c41a03",
   "metadata": {},
   "outputs": [],
   "source": [
    "# Solve the QUBO using Lava's OptimizationSolver on CPU\n",
    "# Change \"backend='Loihi2'\" if your system has physical access to this chip\n",
    "solution = solver.solve(timeout=10000,\n",
    "                        target_cost=-11.0,\n",
    "                        hyperparameters=hyperparameters,\n",
    "                        backend='CPU')\n",
    "\n",
    "# Calculate the cost of the obtained solution\n",
    "cost = solution.T @ q @ solution\n",
    "\n",
    "print(f'\\nSolution of the provided QUBO: {solution}\\n'\n",
    "      f'QUBO cost of solution: {cost} (Lava) vs {-11.0} (optimal)\\n')"
   ]
  },
  {
   "cell_type": "markdown",
   "id": "38684903",
   "metadata": {},
   "source": [
    "## Maximum Independent Sets as example application"
   ]
  },
  {
   "attachments": {},
   "cell_type": "markdown",
   "id": "0b3dcc34",
   "metadata": {},
   "source": [
    "To illustrate how the QUBO solver can solve optimization tasks, this tutorial determines maximum independent sets, an NP-hard task from graph theory. The goal of this task is to find the largest subset of vertices in a graph that are mutually unconnected. In the following graph, the purple nodes form such a set:\n",
    "\n",
    "<br>\n",
    "\n",
    "<img src=\"https://user-images.githubusercontent.com/86950058/192372990-ec4e5926-463c-4b30-810d-08a896446d8a.png\" width=\"250\"/>"
   ]
  },
  {
   "cell_type": "markdown",
   "id": "42410373",
   "metadata": {},
   "source": [
    "#### The QUBO formulation"
   ]
  },
  {
   "cell_type": "markdown",
   "id": "51147f33",
   "metadata": {},
   "source": [
    "As a first step, the MIS problem needs to be translated into a QUBO formulation. Finding the MIS for a graph G=(V, E) with vertices V and edges E can be formulated as a QUBO problem, where we need to optimize the problem\n",
    "\n",
    "&emsp;&emsp; $\\underset{x}{\\text{min}}\\; \\mathbf{x}^T \\mathbf{Q} \\mathbf{x} $ ,\n",
    "\n",
    "where the variables denote\n",
    "\n",
    "&emsp;&emsp; $x_i = \\begin{cases}\n",
    "    1,& \\text{if } \\text{vertex i in MIS} \\\\\n",
    "    0,& \\text{else}\n",
    "\\end{cases}$ .\n",
    "\n",
    "The off-diagonal elements of the QUBO matrix are equivalent to each other, and the same applies to on-diagonal elements,\n",
    "\n",
    "&emsp;&emsp; $Q_{ij} = \\begin{cases}\n",
    "    w_{diag},& \\text{if } \\text{i = j} \\\\\n",
    "    w_{off},& \\text{else}\n",
    "\\end{cases}$ .\n",
    "\n",
    "Thus, the problem can be expressed as\n",
    "\n",
    "&emsp;&emsp; $\\underset{x}{\\text{min}} \\;\\; w_{off} \\underset{(i,j) \\in E}{\\sum} x_i x_j - w_{diag} \\underset{i \\in V}{\\sum} x_i$ .\n",
    "\n",
    "The solution to this problem is equivalent to the MIS if the off-diagonal weights $w_{off}$ and on-diagonal entries $w_{diag}$ fulfill \n",
    "\n",
    "&emsp;&emsp; $w_{off} > 2 \\cdot w_{diag}$ ."
   ]
  },
  {
   "cell_type": "markdown",
   "id": "9da59dd0",
   "metadata": {},
   "source": [
    "#### Utility functions"
   ]
  },
  {
   "cell_type": "markdown",
   "id": "9e249314",
   "metadata": {},
   "source": [
    "To create and analyze MIS workloads, we define utility functions in order to\n",
    "<ol>\n",
    "<li>create random graphs.</li>\n",
    "<li>translate the MIS task into its QUBO formulation.</li>\n",
    "<li>analyze the solution of a given solution to the QUBO problem.</li>\n",
    "</ol>"
   ]
  },
  {
   "cell_type": "code",
   "execution_count": null,
   "id": "c51a1dc0",
   "metadata": {},
   "outputs": [],
   "source": [
    "class MISUtils():\n",
    "    \n",
    "    @staticmethod\n",
    "    def get_random_graph(n_vert, p_edge, seed=6659):\n",
    "        \"\"\"Creates an undirected graph with random connectivity between nodes.\n",
    "        \n",
    "        Parameters\n",
    "        ----------\n",
    "        n_vert : int\n",
    "            Number of vertices in the graph\n",
    "        p_edge: float\n",
    "            Random probability [0, 1] that two vertices are connected\n",
    "        seed: int\n",
    "            Seed for random number calculator\n",
    "            \n",
    "        Returns\n",
    "        -------\n",
    "        adj : Array[binary]\n",
    "            Adjacency matrix\n",
    "        \"\"\"\n",
    "\n",
    "        np.random.seed(seed)\n",
    "\n",
    "        # generate a random binary matrix of size n_vert x n_vert\n",
    "        adj = (np.random.rand(n_vert,n_vert) < p_edge).astype(int)\n",
    "\n",
    "        # delete diagonal elements as nodes have no self-connectivity\n",
    "        adj = np.triu(adj)\n",
    "        # ensure that the matrix is symmetric\n",
    "        adj += adj.T - 2*np.diag(adj.diagonal())\n",
    "\n",
    "        return adj\n",
    "    \n",
    "    @staticmethod\n",
    "    def translate_adj_to_mis_qubo(adj, w_diag, w_off):\n",
    "        \"\"\"Creates a QUBO describing the maximum independent set problem\n",
    "        based on the adjacency matrix of a graph.\n",
    "        The goal of the QUBO is to minimize the term\n",
    "            min x^T * Q * x ,\n",
    "        where the vector \n",
    "            x_i = 1 if vertex i is part of the MIs\n",
    "            x_i = 0 if vertex i is not part of the MIS,\n",
    "        and the QUBO matrix is given by\n",
    "            Q_ii = w_diag\n",
    "            Q_ij = w_off (for i~=j) .\n",
    "        \n",
    "        Parameters\n",
    "        ----------\n",
    "        adj : Array[binary]\n",
    "            Adjacency matrix\n",
    "        w_diag: float\n",
    "            Weights of diagonal elements of Q.\n",
    "        w_off: int\n",
    "            Weights of off-diagonal elements of Q\n",
    "            \n",
    "        Returns\n",
    "        -------\n",
    "        Q : Array[float, float]\n",
    "            2D QUBO matrix.\n",
    "        \"\"\"\n",
    "        \n",
    "        if w_off <= 2 * w_diag:\n",
    "            raise ValueError(\"Off-diagonal weights must be > 2 x diagonal weights.\")\n",
    "    \n",
    "        # Translate the connectivity matrix to a QUBO matrix\n",
    "        Q = - w_diag * np.eye(adj.shape[0])  + w_off/2 * adj\n",
    "\n",
    "        return Q\n",
    "\n",
    "    @staticmethod\n",
    "    def get_total_cost(x_solution, q):\n",
    "        \"\"\"Based on a given solution, returns the value of the cost function.\n",
    "        \n",
    "        Parameters\n",
    "        ----------\n",
    "        x_solution : Array[binary]\n",
    "            Vector of length equal to the number of vertices in the graph.\n",
    "            The ith entry of the vector determines if the ith vertex is a\n",
    "            member of the MIS.\n",
    "        q: Array[float, float]\n",
    "            2D QUBO matrix.\n",
    "            \n",
    "        Returns\n",
    "        -------\n",
    "        float\n",
    "            Cost of the given solution.\n",
    "        \"\"\"\n",
    "        \n",
    "        return (solution.T @ q @ solution)"
   ]
  },
  {
   "cell_type": "markdown",
   "id": "fafb7c53",
   "metadata": {},
   "source": [
    "#### Define and solve the QUBO workload"
   ]
  },
  {
   "cell_type": "markdown",
   "id": "66c6943c",
   "metadata": {},
   "source": [
    "We now define a random graph with 45 nodes and a propability of 0.5 that two random notes are connected. The task to find the maximum independent set within the graph is then translated into a QUBO formulation and encoded in Lava."
   ]
  },
  {
   "cell_type": "code",
   "execution_count": null,
   "id": "75b48413",
   "metadata": {},
   "outputs": [],
   "source": [
    "# Create the connectivity matrix for a random graph\n",
    "adj = MISUtils.get_random_graph(n_vert=45, p_edge=0.5, seed=7865)\n",
    "\n",
    "# Translate the connectivity matrix to a QUBO matrix\n",
    "q = MISUtils.translate_adj_to_mis_qubo(adj, w_diag=1, w_off=4)\n",
    "\n",
    "# Instantiate the QUBO problem\n",
    "qubo_problem = QUBO(q=q)\n",
    "\n",
    "# Instantiate a constraint optimization solver for this workload\n",
    "solver = OptimizationSolver(qubo_problem)"
   ]
  },
  {
   "cell_type": "markdown",
   "id": "8cf6e4b0",
   "metadata": {},
   "source": [
    "A call to the _solve_ method of Lava's optimization solver then solves the provided workload on CPU.\n",
    "\n",
    "As noted above, you can change the _backend_ to 'Loihi2' and run the solver on this neuromorphic hardware, as long as physical access is available. "
   ]
  },
  {
   "cell_type": "code",
   "execution_count": null,
   "id": "62393a6d",
   "metadata": {},
   "outputs": [],
   "source": [
    "# Define hyperparameters for the solver\n",
    "hyperparameters = {\n",
    "    \"steps_to_fire\": 8,\n",
    "    \"noise_amplitude\": 4,\n",
    "    \"step_size\": 1,\n",
    "}\n",
    "\n",
    "# Solve the QUBO using Lava's OptimizationSolver on CPU\n",
    "# Change \"backend='Loihi2'\" if your system has physical access to this chip\n",
    "solution = solver.solve(timeout=10000,\n",
    "                        target_cost=-7,\n",
    "                        hyperparameters=hyperparameters,\n",
    "                        backend='CPU')\n",
    "\n",
    "# Calculate the cost of the obtained solution\n",
    "cost = MISUtils.get_total_cost(x_solution=solution, q=q)\n",
    "\n",
    "print(f'\\nNodes in maximum independent set (index starts at 0): {np.where(solution)[0]}\\n'\n",
    "      f'QUBO cost of solution: {cost} (Lava) vs {-7.0} (optimal)\\n')"
   ]
  },
  {
   "cell_type": "markdown",
   "id": "9c296054",
   "metadata": {},
   "source": [
    "## Future features "
   ]
  },
  {
   "cell_type": "markdown",
   "id": "4d08828c",
   "metadata": {},
   "source": [
    "Please note that the Lava solver is currently an early proof of concept to validate the promises of neuromorphic hardware for optimization.<br>\n",
    "Future releases are expected to provide the following advancements and many more:\n",
    "- Improved solver performance, e.g., by stochastic noise levels that progressively decrease. \n",
    "- New solver algorithms in Lava, like simulated annealing, that exploit the general-purpose programmable neurons available in Loihi2.\n",
    "- Higher compilation speed. While neuromorphic hardware is fast at solving optimization problems, the time it takes to write the problem to Loihi will be substantially accelerated in the near term.\n",
    "- Added compiler support for larger problem sizes.\n",
    "- Automatic hyperparameter tuning.\n",
    "- More stopping criteria besides a target cost and solver iterations, such as convergence of the solver.\n",
    "- Utilities that allow an easy benchmarking between Loihi1, Loihi2, and CPU-based state-of-the-art solvers. <br> Benchmarking metrics will include solution accuracy, speed, and energy efficiency.\n",
    "- Support for Loihi1."
   ]
  },
  {
   "cell_type": "markdown",
   "id": "ccef5697",
   "metadata": {},
   "source": [
    "## How to learn more?\n",
    "\n",
    "Watch this [space](https://github.com/lava-nc/lava-optimization) to learn about upcoming developments to the QUBO solver and the optimization toolbox in Lava in general. \n",
    "\n",
    "If you want to find out more about the implementation of the QP solver, have a look at the [Lava documentation](https://lava-nc.org/ \"Lava Documentation\") or dive into the [source code](https://github.com/lava-nc/lava-optimization/tree/main/src/lava/lib/optimization/solvers/generic\n",
    "\"Source code of the generic constraint optimization solver\").\n",
    "To receive regular updates on the latest developments and releases of the Lava Software Framework please subscribe to the [INRC newsletter](http://eepurl.com/hJCyhb \"INRC Newsletter\")."
   ]
  },
  {
   "cell_type": "markdown",
   "id": "e1a075a2",
   "metadata": {},
   "source": [
    "\n",
    "## References\n",
    "\n",
    "[1] D-Wave Systems Inc: Booth, Reinhardt, Roy, _Partitioning Optimization Problems for Hybrid Classical/Quantum Execution_. [Technical report](https://docs.ocean.dwavesys.com/projects/qbsolv/en/latest/_downloads/bd15a2d8f32e587e9e5997ce9d5512cc/qbsolv_techReport.pdf \"DWave's technical report\"), 2017. <br>\n",
    "[2] Jonke, Z., Habenschuss, S., and Maass, W. (2016). _Solving constraint satisfaction problems with networks of spiking neurons_. Front. Neurosci. 10:118. doi: 10.3389/fnins.2016.00118"
   ]
  }
 ],
 "metadata": {
    "kernelspec": {
     "display_name": "Python 3 (ipykernel)",
     "language": "python",
     "name": "python3"
    },
  "language_info": {
   "codemirror_mode": {
    "name": "ipython",
    "version": 3
   },
   "file_extension": ".py",
   "mimetype": "text/x-python",
   "name": "python",
   "nbconvert_exporter": "python",
   "pygments_lexer": "ipython3",
   "version": "3.8.10"
  }
 },
 "nbformat": 4,
 "nbformat_minor": 5
}