{
 "cells": [
  {
   "cell_type": "markdown",
   "id": "3ed89ff8-72bf-41cc-aca3-62368d1f0096",
   "metadata": {},
   "source": [
    "*Copyright (C) 2024 Intel Corporation*<br>\n",
    "\n",
    "---\n",
    "\n",
    "# Quadratic Unconstrained Binary Optimization (QUBO) with Lava\n",
    "\n",
    "This tutorial ramps up users who want to use Lava's solver for quadratic unconstraint binary optimization (QUBO) problems."
   ]
  },
  {
   "cell_type": "markdown",
   "id": "68648e92-ea2e-43ed-a26e-46b92054e2ba",
   "metadata": {},
   "source": [
    "## Example application: finding the Maximum Independent Set of a graph"
   ]
  },
  {
   "cell_type": "markdown",
   "id": "e20b439e-b372-42de-8f53-fbaa01990ee8",
   "metadata": {},
   "source": [
    "To demonstrate the solver, we use uniformly sampled randomly generated Maximum Independent Set problems on sparse graphs formulated as QUBO problems. The adjacency matrices of the graphs are pre-generated. The following example shows how to formulate and solve a problem as QUBO, using the NP-hard maximum independent set (MIS) problem from graph theory. The goal of an MIS task is to find the largest subset of vertices in a graph that are mutually unconnected. In the following graph, the purple nodes form such a set:\n",
    "\n",
    "<br>\n",
    "\n",
    "<img src=\"https://user-images.githubusercontent.com/86950058/192372990-ec4e5926-463c-4b30-810d-08a896446d8a.png\" width=\"250\"/>"
   ]
  },
  {
   "cell_type": "markdown",
   "id": "a363e656-a4ae-40e0-8c6d-b825bac5ec01",
   "metadata": {},
   "source": [
    "The interpretation is:\n",
    "- There are as many binary variables in the QUBO representation of MIS as the number of vertices in a graph\n",
    "- If a vertex is included in the maximum independent set, the corresponding binary variable takes the value 1. Otherwise it is 0.\n",
    "- Two adjacent vertices (connected via an edge) should not be included simultaneously in the MIS. Therefore, such inclusion incurs a penalty via scaled up adjacency matrix, i.e., the Q-matrix.\n",
    "- Diagonal elements of Q-matrix correspond to -ve values, biasing the QUBO objective function away from 0 (i.e., avoiding an empty MIS)."
   ]
  },
  {
   "cell_type": "markdown",
   "id": "3fd14c36-27d6-41fa-ab83-f789585a1c4c",
   "metadata": {},
   "source": [
    "## Recommended tutorials before starting\n",
    "\n",
    "- [Installing Lava](https://github.com/lava-nc/lava/blob/main/tutorials/in_depth/tutorial01_installing_lava.ipynb \"Tutorial on Installing Lava\")"
   ]
  },
  {
   "cell_type": "markdown",
   "id": "975fefa6-5ecb-489d-8241-9b4f752fef9d",
   "metadata": {},
   "source": [
    "## Set up the environment"
   ]
  },
  {
   "cell_type": "code",
   "execution_count": 1,
   "id": "4615e34c-bb00-44e7-b13b-a906dbc449c8",
   "metadata": {},
   "outputs": [],
   "source": [
    "import matplotlib.pyplot as plt\n",
    "import numpy as np\n",
    "from dataclasses import dataclass\n",
    "from scipy import sparse\n",
    "\n",
    "from lava.magma.core.run_conditions import RunSteps\n",
    "from lava.magma.core.run_configs import Loihi2HwCfg\n",
    "\n",
    "from lava.magma.compiler.subcompilers.nc.ncproc_compiler import CompilerOptions\n",
    "from lava.magma.compiler.subcompilers.nc import partitionable\n",
    "\n",
    "from lava.lib.optimization.solvers.qubo.process import QUBOSolverProcess\n",
    "from lava.lib.optimization.solvers.qubo.utils.hyperparameters import QUBOHyperparameters\n",
    "from lava.lib.optimization.solvers.qubo.utils.solver_config import SolverConfig"
   ]
  },
  {
   "cell_type": "markdown",
   "id": "ece0f421-0ef5-4ce0-a413-517753a71cd5",
   "metadata": {},
   "source": [
    "#### If using SLURM resource manager, set it up"
   ]
  },
  {
   "cell_type": "code",
   "execution_count": 2,
   "id": "efc6e459-ae7f-4a62-a6a6-3be402ed114a",
   "metadata": {},
   "outputs": [],
   "source": [
    "import os\n",
    "os.environ['SLURM'] = '1'\n",
    "os.environ['LOIHI_GEN'] = 'N3C1'\n",
    "os.environ[\"BOARD\"] = 'ncl-og-05'\n",
    "os.environ[\"PATH\"] += ':/nfs/ncl/bin'"
   ]
  },
  {
   "cell_type": "markdown",
   "id": "adeec1d8-503a-496c-96d7-2a2aa7b581f2",
   "metadata": {},
   "source": [
    "### Helper functions"
   ]
  },
  {
   "cell_type": "code",
   "execution_count": 3,
   "id": "6402f6d3-3c68-4991-ba34-85fb93a063db",
   "metadata": {},
   "outputs": [],
   "source": [
    "def random_initial_values(q, seed=42):\n",
    "    \"\"\"Generates a random binary vector, to be used as an \n",
    "    initial value for a QUBO problem, given a Q-matrix input.\n",
    "\n",
    "    Parameters\n",
    "    ----------\n",
    "    q (numpy.ndarray) : Q-matrix for a QUBO problem\n",
    "\n",
    "    Returns\n",
    "    -------\n",
    "    A binary vector with randomly chosen elements between \n",
    "    0 and 1.\n",
    "    \"\"\"\n",
    "    rng = np.random.default_rng(seed)\n",
    "    return rng.choice([0, 1], q.shape[0]).astype(np.int8)\n",
    "\n",
    "def create_config(steps, \n",
    "                  target_cost, \n",
    "                  hyperparams):\n",
    "    \"\"\"Creates configuration for QUBO solver.\n",
    "\n",
    "    Parameters\n",
    "    ----------\n",
    "    steps (int) : number of time-steps for which the solver is \n",
    "                  executed \n",
    "    target_cost (int) : desired target value of the QUBO objective \n",
    "    hyperparams (QUBOHyperparameters) : user-defined hyperparameters \n",
    "                                        for simulated annealing\n",
    "\n",
    "    Returns\n",
    "    -------\n",
    "    Configuration class for QUBO solver\n",
    "    \"\"\"\n",
    "    config = SolverConfig()\n",
    "    config.timeout = steps\n",
    "    config.target_cost = target_cost\n",
    "    config.readout = 'pio'\n",
    "    config.hyperparameters = hyperparams\n",
    "    config.log_level = 20\n",
    "    return config\n",
    "\n",
    "def create_solver(q, config):\n",
    "    \"\"\"Creates an instance of the QUBO solver\n",
    "\n",
    "    Parameters\n",
    "    ----------\n",
    "    q (numpy.ndarray) : Q-matrix for a QUBO problem\n",
    "    config (SolverConfig) : Configuration class for a QUBO problem\n",
    "\n",
    "    Returns\n",
    "    -------\n",
    "    An instance of QUBOSolverProcess class configured with \n",
    "    user-provided configuration\n",
    "    \"\"\"\n",
    "    solver = QUBOSolverProcess(qubo_matrix=q, solver_config=config)\n",
    "    solver._log_config.level = config.log_level\n",
    "    return solver\n",
    "\n",
    "def run_solver(solver, config):\n",
    "    \"\"\"Runs an instance of the QUBO solver.\n",
    "\n",
    "    Parameters\n",
    "    ----------\n",
    "    solver (QUBOSolverProcess) : An instance of the QUBO solver\n",
    "    config (SolverConfig) : An instance of the configuration for \n",
    "                             QUBO solver\n",
    "\n",
    "    Returns\n",
    "    -------\n",
    "    Binary vector that minimizes the QUBO objective function \n",
    "    \"\"\"\n",
    "    run_cfg = Loihi2HwCfg()\n",
    "    CompilerOptions.verbose = True  # Print network partitioning information on stdout.\n",
    "    CompilerOptions.show_resource_count = True  # Use raw number of registers in the partitioning info, instead of %s.\n",
    "    solver.run(condition=RunSteps(num_steps=config.timeout), run_cfg=run_cfg)\n",
    "    best_value = solver.best_variable_assignment.get()  # Fetch the neural state from Loihi 2 at the end of a run.\n",
    "    solver.stop()  # Stop the execution and free-up the hardware resource.\n",
    "    return best_value"
   ]
  },
  {
   "cell_type": "code",
   "execution_count": 4,
   "id": "ce649c2a-0ac8-4dc5-add9-fbc49ee052e5",
   "metadata": {},
   "outputs": [],
   "source": [
    "def solve_qubo(\n",
    "        q_matrix,\n",
    "        target_cost: int,\n",
    "        random_seed: int = 2,\n",
    "        timeout: int = 4000,\n",
    "        **hyperparams_user,\n",
    "):\n",
    "    \"\"\"Wrapper function to setup and solve a QUBO problem \n",
    "    using the QUBO solver using user-definedd simulated \n",
    "    annealing hyperparameters and solver configuration.\n",
    "\n",
    "    Parameters\n",
    "    ----------\n",
    "    q_matrix (numpy.ndarray) : Q-matrix for a QUBO problem\n",
    "    target_cost (int) : desired target value of the QUBO objective \n",
    "    random_seed (int, optional) : seed passed to RNG for generating \n",
    "                                  random initial solver state\n",
    "    timeout (int, optional) : number of Loihi 2 time-steps for \n",
    "                              which the solver should run\n",
    "    hyperparams_user (dict, optional) : simulated annealing \n",
    "                                        hyperparameters to override \n",
    "                                        the defaults.\n",
    "\n",
    "    Returns\n",
    "    -------\n",
    "    best_cost_calculated (int) : lowest QUBO objective function \n",
    "                                 value found at the end of the run\n",
    "    best_solution (numpy.ndarray) : solution to QUBO corresponding \n",
    "                                    to `best_cost_calculated`\n",
    "    \"\"\"\n",
    "\n",
    "    hyperparams = QUBOHyperparameters()\n",
    "\n",
    "    hyperparams.neuron_model = 'sa'\n",
    "    hyperparams.temperature_max = int(2)\n",
    "    hyperparams.temperature_min = int(0)\n",
    "    hyperparams.temperature_delta = int(1)\n",
    "    hyperparams.exp_temperature = int(1)\n",
    "    hyperparams.annealing_schedule = 'linear'\n",
    "    hyperparams.init_value = ('random', random_seed)\n",
    "    hyperparams.steps_per_temperature = int(timeout//2)\n",
    "\n",
    "    hyperparams.__dict__.update(hyperparams_user)\n",
    "\n",
    "    config = create_config(int(timeout), int(target_cost), hyperparams)\n",
    "\n",
    "    solver = create_solver(q, config)\n",
    "    best_solution = run_solver(solver, config)\n",
    "    best_cost_calculated = (\n",
    "        np.transpose(best_solution)\n",
    "        @ q_matrix\n",
    "        @ best_solution\n",
    "    )\n",
    "    return best_cost_calculated, best_solution"
   ]
  },
  {
   "cell_type": "markdown",
   "id": "04287987-4747-438f-9e09-e487af47098e",
   "metadata": {},
   "source": [
    "### Load pre-generated MIS adjacency matrix\n",
    "\n",
    "All adjacency matrices correspond to sparse random graphs, such that the edges are sampled from a uniform distribution with 5% probability. Therefore, the adjacency matrices have 5% non-zero elements.\n",
    "\n",
    "A Q-matrix is derived from an adjacency matrix by simply scaling the latter. "
   ]
  },
  {
   "cell_type": "code",
   "execution_count": null,
   "id": "e04b73f4-ea16-4680-a2c5-79e7ccff3f0a",
   "metadata": {},
   "outputs": [],
   "source": [
    "def load_mis_uniform_q(size=100, seed=0, scale=(8,1)):\n",
    "    \"\"\"Loads the adjacency matrix of a graph for which an MIS \n",
    "    problem is being solved as QUBO\n",
    "\n",
    "    The filenames storing the matrices are standardised.\n",
    "\n",
    "    Parameters\n",
    "    ----------\n",
    "    size (int) : size of the Q-matrix, part of filename\n",
    "    seed (int) : seed used to generate the random graph, part of \n",
    "                 filename\n",
    "    scale (tuple(int, int)) : scaling factors for diagonal and \n",
    "                              off-diagonal elements of the Q-matrix\n",
    "    \"\"\"\n",
    "    q = np.loadtxt(f'./data/qubo/workloads/mis-uniform/mis-uniform-{size}-0.05-{seed}.txt', dtype=int)\n",
    "    q *= scale[0]\n",
    "    q[np.diag_indices(q.shape[0])] = -scale[1]\n",
    "    return q"
   ]
  },
  {
   "cell_type": "markdown",
   "id": "447606f6-7abf-4a8e-8380-0e07e86a10e7",
   "metadata": {},
   "source": [
    "### Set up and Execute the solver"
   ]
  },
  {
   "cell_type": "code",
   "execution_count": 5,
   "id": "f4db4d65-306e-45ea-9349-cdfc069d9a20",
   "metadata": {},
   "outputs": [
    {
     "name": "stdout",
     "output_type": "stream",
     "text": [
      "Partitioning converged after iteration=1\n",
      "Per core utilization:\n",
      "-------------------------------------------------------------------------\n",
      "| AxonIn |NeuronGr| Neurons|Synapses| AxonMap| AxonMem|  Total |  Cores |\n",
      "|-----------------------------------------------------------------------|\n",
      "|     100|       1|       2|     100|       3|       0|     206|       1|\n",
      "|     200|       1|     100|     370|     400|       0|    1071|       1|\n",
      "|       0|       1|       1|       0|       1|       0|       3|       1|\n",
      "|-----------------------------------------------------------------------|\n",
      "| Total                                                        |       3|\n",
      "-------------------------------------------------------------------------\n"
     ]
    },
    {
     "name": "stderr",
     "output_type": "stream",
     "text": [
      "/home/sumedhrr/frameworks.ai.nx.nxsdk/nxcore/arch/n3b/n3board.py:77: UserWarning: Loihi generation overriden by environment variable LOIHI_GEN=N3C1\n",
      "  warnings.warn(\"Loihi generation overriden by environment variable LOIHI_GEN={}\".format(os.environ[\"LOIHI_GEN\"]))\n"
     ]
    },
    {
     "name": "stdout",
     "output_type": "stream",
     "text": [
      "INFO:DRV:  SLURM is being run in background\n",
      "INFO:DRV:  Connecting to 10.54.73.21:36335\n",
      "INFO:DRV:      Host server up..............Done 0.44s\n",
      "INFO:DRV:      Mapping chipIds.............Done 0.02ms\n",
      "INFO:DRV:      Mapping coreIds.............Done 0.10ms\n",
      "INFO:DRV:      Partitioning neuron groups..Done 1.20ms\n",
      "INFO:DRV:      Mapping axons...............Done 2.24ms\n",
      "INFO:DRV:      Configuring Spike Block.....Done 0.01ms\n",
      "INFO:DRV:      Writes SpikeIO Config to FileDone 0.01ms\n",
      "INFO:DRV:      Initializes Python MQ.......Done 0.00ms\n",
      "INFO:DRV:      Partitioning MPDS...........Done 0.90ms\n",
      "INFO:DRV:      Compiling Embedded snips....Done 0.38s\n",
      "INFO:DRV:      Compiling Host snips........Done 0.09ms\n",
      "INFO:DRV:      Compiling Register Probes...Done 0.17ms\n",
      "INFO:DRV:      Compiling Spike Probes......Done 0.02ms\n",
      "INFO:HST:  Args chip=0 cpu=0 /home/sumedhrr/frameworks.ai.nx.nxsdk/nxcore/arch/base/pre_execution/../../../../temp/7e0d6a50-50aa-11ef-b608-eb5f7587f812/launcher_chip0_cpu0.bin --chips=1 --remote-relay=0 \n",
      "INFO:HST:  Args chip=0 cpu=1 /home/sumedhrr/frameworks.ai.nx.nxsdk/nxcore/arch/base/pre_execution/../../../../temp/7e0d6a50-50aa-11ef-b608-eb5f7587f812/launcher_chip0_cpu1.bin --chips=1 --remote-relay=0 \n",
      "INFO:HST:  Nx...\n",
      "INFO:DRV:      Booting up..................Done 0.37s\n",
      "INFO:DRV:      Encoding probes.............Done 0.02ms\n",
      "INFO:DRV:      Transferring probes.........Done 0.01s\n",
      "INFO:DRV:      Configuring registers.......Done 0.45s\n",
      "INFO:DRV:      Transferring spikes.........Done 0.01ms\n",
      "INFO:DRV:      Executing...................Done 0.01s\n",
      "INFO:DRV:      Processing timeseries.......Done 0.03ms\n",
      "INFO:DRV:  Executor: 4000 timesteps........Done 0.58s\n",
      "INFO:HST:  Execution has not started yet or has finished.\n",
      "INFO:HST:  Stopping Execution : at 4000\n",
      "INFO:HST:  chip=0 cpu=1 halted, status=0x0\n",
      "INFO:HST:  chip=0 cpu=0 halted, status=0x0\n",
      "\n",
      "********************************************************\n",
      "Found solution with best cost -44.0.\n",
      "\n",
      "********************************************************\n",
      "The solution is\n",
      "[[0. 0. 1. 1. 0. 0. 1. 1. 1. 1.]\n",
      " [0. 0. 0. 1. 0. 0. 0. 0. 1. 0.]\n",
      " [1. 0. 1. 0. 0. 0. 0. 1. 0. 1.]\n",
      " [0. 1. 1. 0. 1. 0. 1. 1. 0. 0.]\n",
      " [0. 1. 0. 0. 0. 0. 1. 1. 1. 0.]\n",
      " [0. 1. 1. 0. 1. 1. 0. 1. 0. 1.]\n",
      " [0. 0. 0. 0. 0. 1. 0. 0. 0. 0.]\n",
      " [1. 1. 0. 1. 0. 0. 1. 0. 1. 0.]\n",
      " [1. 0. 1. 1. 0. 0. 0. 0. 1. 0.]\n",
      " [0. 1. 1. 0. 1. 1. 0. 1. 1. 1.]]\n"
     ]
    }
   ],
   "source": [
    "size = 100    # Valid problem sizes for MIS Uniform: 100, 400, 1000\n",
    "w_scale = 8    # This should be promoted to a model HyperParam, also...\n",
    "               # technically you could tune w_diag and w_off separately, but\n",
    "               # in general an 8:1 ratio seems to give best results.\n",
    "\n",
    "q = load_mis_uniform_q(size=size, scale=(w_scale * 8, w_scale * 1))\n",
    "q = sparse.csr_matrix(q) if isinstance(q, np.ndarray) else q.copy()\n",
    "best_cost_calculated, best_solution = solve_qubo(q_matrix=q,\n",
    "                                                 target_cost=-1000,\n",
    "                                                 timeout=4000)\n",
    "print(f'\\n********************************************************')\n",
    "print(f'Found solution with best cost {best_cost_calculated/w_scale}.')\n",
    "print(f'\\n********************************************************')\n",
    "print(f'The solution is\\n{best_solution.reshape(10, 10)}')"
   ]
  },
  {
   "cell_type": "code",
   "execution_count": null,
   "id": "e5ecb4b1-535a-4aa3-90aa-5bc0b4a583fe",
   "metadata": {},
   "outputs": [],
   "source": []
  }
 ],
 "metadata": {
  "kernelspec": {
   "display_name": "Python 3 (ipykernel)",
   "language": "python",
   "name": "python3"
  },
  "language_info": {
   "codemirror_mode": {
    "name": "ipython",
    "version": 3
   },
   "file_extension": ".py",
   "mimetype": "text/x-python",
   "name": "python",
   "nbconvert_exporter": "python",
   "pygments_lexer": "ipython3",
   "version": "3.8.10"
  }
 },
 "nbformat": 4,
 "nbformat_minor": 5
}
